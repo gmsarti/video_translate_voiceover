{
 "cells": [
  {
   "cell_type": "code",
   "execution_count": 5,
   "metadata": {},
   "outputs": [
    {
     "name": "stdout",
     "output_type": "stream",
     "text": [
      "list index out of range\n"
     ]
    }
   ],
   "source": [
    "path_to_text:str = \"/home/gustavo/Documents/projects/code/video_translate_voiceover/data/output/text_short_video_translated_en.txt\"\n",
    "\n",
    "file = open(path_to_text, 'r')\n",
    "text_content = file.read()\n",
    "file.close()\n",
    "list_of_phrases = text_content.splitlines()\n",
    "phrases_to_tts = []\n",
    "last_phrase = 0\n",
    "\n",
    "while last_phrase < len(list_of_phrases):\n",
    "    sum_of_phrases = \"\"\n",
    "    while len(sum_of_phrases)<500:\n",
    "        try:\n",
    "            sum_of_phrases += f\" {list_of_phrases[last_phrase]}\"\n",
    "            last_phrase += 1\n",
    "        except Exception as e:\n",
    "            print(e)\n",
    "            print(\"Finishin process...\")\n",
    "            break\n",
    "    phrases_to_tts.append(sum_of_phrases)\n",
    "   "
   ]
  },
  {
   "cell_type": "code",
   "execution_count": 13,
   "metadata": {},
   "outputs": [],
   "source": [
    "from transformers import pipeline\n",
    "from datasets import load_dataset\n",
    "import soundfile as sf, torch\n",
    "\n",
    "synthesiser = pipeline(\"text-to-speech\", \"microsoft/speecht5_tts\")\n",
    "\n",
    "embeddings_dataset = load_dataset(\"Matthijs/cmu-arctic-xvectors\", split=\"validation\")\n",
    "speaker_embedding = torch.tensor(embeddings_dataset[7306][\"xvector\"]).unsqueeze(0)\n",
    "# You can replace this embedding with your own as well.\n",
    "\n",
    "for i in range(len(phrases_to_tts)):\n",
    "    speech = synthesiser(phrases_to_tts[i], forward_params={\"speaker_embeddings\": speaker_embedding})\n",
    "\n",
    "    sf.write(f\"/home/gustavo/Documents/projects/code/video_translate_voiceover/data/transformed/tts/part_{i}.wav\", speech[\"audio\"], samplerate=speech[\"sampling_rate\"])\n"
   ]
  }
 ],
 "metadata": {
  "kernelspec": {
   "display_name": "src-b_hBAezR-py3.10",
   "language": "python",
   "name": "python3"
  },
  "language_info": {
   "codemirror_mode": {
    "name": "ipython",
    "version": 3
   },
   "file_extension": ".py",
   "mimetype": "text/x-python",
   "name": "python",
   "nbconvert_exporter": "python",
   "pygments_lexer": "ipython3",
   "version": "3.10.12"
  }
 },
 "nbformat": 4,
 "nbformat_minor": 2
}

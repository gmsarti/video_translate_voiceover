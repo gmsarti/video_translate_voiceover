{
 "cells": [
  {
   "cell_type": "code",
   "execution_count": 1,
   "metadata": {},
   "outputs": [],
   "source": [
    "from moviepy.video.io.ffmpeg_tools import (ffmpeg_extract_subclip,\n",
    "                                           ffmpeg_extract_audio,\n",
    "                                           ffmpeg_merge_video_audio)\n",
    "# https://moviepy.readthedocs.io/en/latest/ref/ffmpeg.html\n",
    "\n",
    "PATH_DATA_FOLDER = \"/home/gustavo/Documents/projects/code/video_translate_voiceover/data\"\n",
    "\n",
    "# Extract the first 4 minutes and 40 seconds \n",
    "# I'm selecting this time to get a clean cut of audio\n",
    "start_time = 0 # Start at the beginning of the video\n",
    "end_time = 4 * 60 + 40 # 4 minutes and 40 seconds"
   ]
  },
  {
   "cell_type": "code",
   "execution_count": 2,
   "metadata": {},
   "outputs": [
    {
     "name": "stdout",
     "output_type": "stream",
     "text": [
      "Moviepy - Running:\n",
      ">>> \"+ \" \".join(cmd)\n",
      "Moviepy - Command successful\n"
     ]
    }
   ],
   "source": [
    "# Get short video clip\n",
    "\n",
    "ffmpeg_extract_subclip(\n",
    "    PATH_DATA_FOLDER + \"/raw/case_ai.mp4\",\n",
    "    start_time, \n",
    "    end_time, \n",
    "    targetname=PATH_DATA_FOLDER + \"/transformed/short_video.mp4\"\n",
    ")"
   ]
  },
  {
   "cell_type": "code",
   "execution_count": 3,
   "metadata": {},
   "outputs": [
    {
     "name": "stdout",
     "output_type": "stream",
     "text": [
      "Moviepy - Running:\n",
      ">>> \"+ \" \".join(cmd)\n",
      "Moviepy - Command successful\n"
     ]
    }
   ],
   "source": [
    "# Get short video with NO AUDIO\n",
    "\n",
    "ffmpeg_extract_audio(\n",
    "    inputfile = PATH_DATA_FOLDER + \"/transformed/short_video.mp4\",\n",
    "    output = PATH_DATA_FOLDER + \"/transformed/short_video_NO_audio.mp4\",\n",
    ")"
   ]
  },
  {
   "cell_type": "code",
   "execution_count": 4,
   "metadata": {},
   "outputs": [
    {
     "data": {
      "text/plain": [
       "<_io.BufferedRandom name='/home/gustavo/Documents/projects/code/video_translate_voiceover/data/transformed/audio_short_video_ptbr.mp3'>"
      ]
     },
     "execution_count": 4,
     "metadata": {},
     "output_type": "execute_result"
    }
   ],
   "source": [
    "# Get original audio\n",
    "\n",
    "from pydub import AudioSegment\n",
    "\n",
    "audio_short_video_ptbr = AudioSegment.from_file(PATH_DATA_FOLDER + \"/transformed/short_video.mp4\", \"mp4\")\n",
    "\n",
    "\n",
    "audio_short_video_ptbr.export(PATH_DATA_FOLDER + \"/transformed/audio_short_video_ptbr.mp3\", format=\"mp3\")"
   ]
  }
 ],
 "metadata": {
  "kernelspec": {
   "display_name": "src-upvhSulh-py3.9",
   "language": "python",
   "name": "python3"
  },
  "language_info": {
   "codemirror_mode": {
    "name": "ipython",
    "version": 3
   },
   "file_extension": ".py",
   "mimetype": "text/x-python",
   "name": "python",
   "nbconvert_exporter": "python",
   "pygments_lexer": "ipython3",
   "version": "3.10.12"
  }
 },
 "nbformat": 4,
 "nbformat_minor": 2
}

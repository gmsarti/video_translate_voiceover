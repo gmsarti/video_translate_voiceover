{
 "cells": [
  {
   "cell_type": "code",
   "execution_count": 1,
   "metadata": {},
   "outputs": [],
   "source": [
    "PATH_DATA_FOLDER = \"/home/gustavo/Documents/projects/code/video_translate_voiceover/data\"\n",
    "\n",
    "AUDIO_PATH = PATH_DATA_FOLDER + \"/transformed/audio_short_video_ptbr.mp3\""
   ]
  },
  {
   "cell_type": "code",
   "execution_count": 4,
   "metadata": {},
   "outputs": [],
   "source": [
    "import subprocess"
   ]
  },
  {
   "cell_type": "code",
   "execution_count": 5,
   "metadata": {},
   "outputs": [
    {
     "name": "stderr",
     "output_type": "stream",
     "text": [
      "100%|█████████████████████████████████████| 2.88G/2.88G [09:18<00:00, 5.53MiB/s]\n",
      "/home/gustavo/.cache/pypoetry/virtualenvs/src-b_hBAezR-py3.10/lib/python3.10/site-packages/whisper/transcribe.py:115: UserWarning: FP16 is not supported on CPU; using FP32 instead\n",
      "  warnings.warn(\"FP16 is not supported on CPU; using FP32 instead\")\n"
     ]
    },
    {
     "name": "stdout",
     "output_type": "stream",
     "text": [
      "[00:00.000 --> 00:02.040]  Você quer ganhar dinheiro trabalhando pela internet?\n",
      "[00:02.700 --> 00:05.540]  Pela Hotmart você tem duas formas de fazer isso.\n",
      "[00:05.700 --> 00:07.900]  Ou como produtor, ou como afiliado.\n",
      "[00:08.380 --> 00:13.600]  Hoje nós vamos te mostrar o passo a passo pra você fazer a sua primeira venda como afiliado na Hotmart.\n",
      "[00:14.120 --> 00:14.820]  Vamos lá?\n",
      "[00:15.300 --> 00:19.240]  Afiliados são aquelas pessoas que trabalham divulgando cursos online de outras pessoas\n",
      "[00:19.240 --> 00:22.060]  e recebendo uma comissão por cada venda realizada.\n",
      "[00:22.200 --> 00:24.980]  A maioria dos produtos na Hotmart aceitam afiliados.\n",
      "[00:25.160 --> 00:27.120]  Pra conseguir ser um afiliado de sucesso,\n",
      "[00:27.120 --> 00:31.240]  é preciso seguir alguns passos básicos e prestar atenção em vários detalhes.\n",
      "[00:31.680 --> 00:36.420]  Também é preciso muito trabalho e a consciência de que essa atividade não dá frutos da noite pro dia.\n",
      "[00:36.800 --> 00:39.360]  Primeira coisa a se fazer é se cadastrar na Hotmart.\n",
      "[00:39.700 --> 00:42.400]  Então o que você precisa fazer é clicar aqui em Cadastre-se\n",
      "[00:42.400 --> 00:45.100]  e aí vai abrir a nossa tela de cadastro da Hotmart.\n",
      "[00:45.460 --> 00:48.680]  Você tem a opção de cadastrar ou com a sua conta do Facebook,\n",
      "[00:48.940 --> 00:51.780]  ou então você cadastrar seu nome aqui.\n",
      "[00:51.920 --> 00:54.060]  Então você coloca o seu nome, o seu e-mail\n",
      "[00:54.060 --> 00:56.600]  e embaixo você escolhe.\n",
      "[00:56.600 --> 00:57.260]  Uma senha.\n",
      "[00:57.720 --> 00:58.280]  Beleza?\n",
      "[00:58.300 --> 01:00.180]  Clica em continuar e pronto.\n",
      "[01:01.480 --> 01:04.500]  E aí, ao entrar na plataforma, você clica aqui na seção Mercado.\n",
      "[01:04.740 --> 01:07.980]  Aqui você vai ver todos os cursos disponíveis na plataforma da Hotmart.\n",
      "[01:08.400 --> 01:11.500]  Entre os cursos que aceitam afiliações, existem dois tipos.\n",
      "[01:11.860 --> 01:17.240]  Os cursos de afiliação aberta, ou seja, qualquer pessoa pode se afiliar e começar a vender.\n",
      "[01:17.420 --> 01:19.520]  Ou os cursos com afiliação moderada.\n",
      "[01:19.780 --> 01:23.140]  Na afiliação moderada, você precisa solicitar sua afiliação.\n",
      "[01:23.180 --> 01:25.440]  E o produtor pode ou não aceitar.\n",
      "[01:25.440 --> 01:29.380]  A segunda coisa a se fazer é definir qual nicho do mercado você vai trabalhar.\n",
      "[01:30.000 --> 01:33.440]  Escolha cursos sobre um assunto que você domine, que você tenha conhecimento.\n",
      "[01:33.720 --> 01:35.100]  Mesmo que um pouquinho só.\n",
      "[01:35.320 --> 01:38.800]  Isso é importante para você conseguir criar conteúdos e materiais de divulgação\n",
      "[01:38.800 --> 01:41.420]  sobre os assuntos de interesse dos possíveis compradores.\n",
      "[01:41.740 --> 01:46.840]  Depois disso, você vai pesquisar na plataforma da Hotmart quais cursos vale a pena se afiliar.\n",
      "[01:47.300 --> 01:50.000]  Para isso, você precisa analisar cinco fatores.\n",
      "[01:50.560 --> 01:51.120]  Temperatura,\n",
      "[01:51.700 --> 01:52.000]  Blueprint,\n",
      "[01:52.940 --> 01:53.500]  Satisfação,\n",
      "[01:53.560 --> 01:55.420]  Valor da comissão por vendas,\n",
      "[01:55.420 --> 01:57.240]  E a forma do comissionamento.\n",
      "[01:57.460 --> 02:00.060]  Eu vou explicar cada um desses fatores agora, um por um.\n",
      "[02:00.420 --> 02:04.020]  Então eu vou entrar aqui e vou clicar aqui no curso de vinhos. Salude, tá bom?\n",
      "[02:05.200 --> 02:07.900]  Satisfação é a avaliação do curso de acordo com quem já comprou.\n",
      "[02:08.220 --> 02:11.560]  Se você se afiliar aos cursos com alto índice de satisfação,\n",
      "[02:12.460 --> 02:15.640]  menores são as chances de ter clientes insatisfeitos com o produto que você vendeu.\n",
      "[02:16.080 --> 02:18.200]  Então um produto que tiver satisfação alta,\n",
      "[02:18.380 --> 02:24.260]  a chance dele ter um pedido de reembolso é muito menor do que os produtos que têm satisfação baixa.\n",
      "[02:24.380 --> 02:25.400]  Ou seja, são mal avaliados.\n",
      "[02:26.520 --> 02:30.820]  A temperatura é um índice da Hotmart, beleza?\n",
      "[02:31.140 --> 02:38.540]  Então quer dizer o seguinte, que a gente vai avaliar todas as coisas que aquele produto tiver de bom e de ruim,\n",
      "[02:38.620 --> 02:40.340]  do ponto de vista de números,\n",
      "[02:40.640 --> 02:43.720]  para a gente poder colocar ele mais alto ou mais baixo no mercado.\n",
      "[02:44.000 --> 02:46.020]  Ou seja, se um produto tem muita venda,\n",
      "[02:46.100 --> 02:48.720]  produto aberto à afiliação, muitos afiliados,\n",
      "[02:48.860 --> 02:50.420]  muitas vendas por afiliado,\n",
      "[02:50.620 --> 02:52.220]  baixo reembolso,\n",
      "[02:52.260 --> 02:53.220]  baixo chargeback,\n",
      "[02:53.500 --> 02:55.340]  consequentemente ele vai estar mais quente.\n",
      "[02:55.420 --> 02:59.340]  Agora isso não quer dizer que o produto que está mais frio é um produto ruim.\n",
      "[02:59.480 --> 03:03.560]  Quer dizer que ele é um produto que de repente ainda não foi percebido, bem percebido pelas pessoas.\n",
      "[03:04.040 --> 03:11.520]  Ou porque é um produto que de repente o produtor ainda não colocou muito esforço de venda sobre ele.\n",
      "[03:11.860 --> 03:17.360]  Então a temperatura indica como esse produto está sendo avaliado pelo mercado naquele momento.\n",
      "[03:17.540 --> 03:21.560]  Mas não quer dizer que você não tenha boas oportunidades com um produto com temperatura baixa.\n",
      "[03:21.760 --> 03:24.840]  E naturalmente, os produtos que são mais quentes,\n",
      "[03:25.420 --> 03:27.000]  podem atrair mais afiliados.\n",
      "[03:27.200 --> 03:28.800]  Então, quanto mais quente,\n",
      "[03:29.420 --> 03:30.380]  mais afiliados.\n",
      "[03:30.420 --> 03:31.720]  Já aconteceu com um cliente nosso,\n",
      "[03:31.900 --> 03:37.540]  que deixou a afiliação aberta em um dia e estava em um lugar mais quente,\n",
      "[03:37.620 --> 03:39.640]  e ele teve 3 mil afiliados em um dia.\n",
      "[03:40.000 --> 03:42.520]  Então, imagina que se o produto está muito quente,\n",
      "[03:42.620 --> 03:44.600]  naturalmente você vai ter mais concorrência para vendê-lo.\n",
      "[03:44.820 --> 03:49.300]  O blueprint representa a qualidade das informações cadastradas pelo criador do produto.\n",
      "[03:49.620 --> 03:53.940]  Então, quanto mais relevantes e detalhadas as informações sobre o produto,\n",
      "[03:54.040 --> 03:54.860]  maior vai ser o blueprint.\n",
      "[03:54.860 --> 03:56.700]  Os produtos com blueprint alto\n",
      "[03:56.700 --> 04:00.200]  tendem a disponibilizar bons materiais de divulgação para os afiliados.\n",
      "[04:00.320 --> 04:04.580]  E uma proporção maior entre a comissão por venda e o preço final.\n",
      "[04:04.940 --> 04:06.940]  Agora falando em materiais de divulgação.\n",
      "[04:07.320 --> 04:11.160]  Então, vale muito a pena você avaliar o produto que você vai promocionar\n",
      "[04:11.160 --> 04:14.960]  pela qualidade dos materiais que o produtor disponibiliza para você.\n",
      "[04:15.160 --> 04:20.080]  O principal material de trabalho que você vai ter é a página de vendas.\n",
      "[04:20.200 --> 04:24.320]  Então, não deixe de avaliar com muito critério a qualidade da página de vendas\n",
      "[04:24.320 --> 04:26.360]  que o produtor disponibiliza para você poder trabalhar.\n",
      "[04:27.460 --> 04:30.820]  Então, aqui na janela do curso aberta, você vai em sobre\n",
      "[04:30.820 --> 04:35.020]  e você desce até o pé da página aqui, que vai estar a página de vendas.\n",
      "[04:35.100 --> 04:39.200]  Só clicar em visualizar e aí você vai chegar na página de vendas do produto.\n"
     ]
    },
    {
     "data": {
      "text/plain": [
       "CompletedProcess(args=['whisper', '--language', 'pt', '--word_timestamps', 'True', '--model', 'large', '--output_dir', 'output-large', '/home/gustavo/Documents/projects/code/video_translate_voiceover/data/transformed/audio_short_video_ptbr.mp3'], returncode=0)"
      ]
     },
     "execution_count": 5,
     "metadata": {},
     "output_type": "execute_result"
    }
   ],
   "source": [
    "model_name = \"large\"\n",
    "subprocess.run(\n",
    "  [\n",
    "    \"whisper\", \n",
    "    \"--language\", \"pt\", \n",
    "    \"--word_timestamps\", \"True\",\n",
    "    \"--model\", model_name, \n",
    "    \"--output_dir\", f\"{PATH_DATA_FOLDER}/output/transcript_whisper_{model_name}\", \n",
    "    AUDIO_PATH\n",
    "  ]\n",
    ")"
   ]
  }
 ],
 "metadata": {
  "kernelspec": {
   "display_name": "src-b_hBAezR-py3.10",
   "language": "python",
   "name": "python3"
  },
  "language_info": {
   "codemirror_mode": {
    "name": "ipython",
    "version": 3
   },
   "file_extension": ".py",
   "mimetype": "text/x-python",
   "name": "python",
   "nbconvert_exporter": "python",
   "pygments_lexer": "ipython3",
   "version": "3.10.12"
  }
 },
 "nbformat": 4,
 "nbformat_minor": 2
}

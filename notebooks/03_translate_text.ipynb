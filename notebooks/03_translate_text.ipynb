{
 "cells": [
  {
   "cell_type": "markdown",
   "metadata": {},
   "source": [
    "## Tranlation easy"
   ]
  },
  {
   "cell_type": "code",
   "execution_count": 1,
   "metadata": {},
   "outputs": [],
   "source": [
    "from googletrans import Translator\n",
    "\n",
    "translator = Translator()"
   ]
  },
  {
   "cell_type": "code",
   "execution_count": 2,
   "metadata": {},
   "outputs": [],
   "source": [
    "input_filepath = \"/home/gustavo/Documents/projects/code/video_translate_voiceover/data/output/output-large/audio_short_video_ptbr.txt\"\n",
    "output_filepath = \"/home/gustavo/Documents/projects/code/video_translate_voiceover/data/output/audio_short_video_ptbr_translated.txt\"\n",
    "\n",
    "final_translation = \"\"  # Initialize the string to store the accumulated translations\n",
    "\n",
    "with open(input_filepath, 'r') as input_file, open(output_filepath, 'w') as output_file:\n",
    "    for line in input_file:\n",
    "        translated_line = translator.translate(line, dest='en')\n",
    "        final_translation += translated_line.text + \"\\n\"  # Add newline for formatting\n",
    "\n",
    "    output_file.write(final_translation)"
   ]
  },
  {
   "cell_type": "markdown",
   "metadata": {},
   "source": [
    "## TranslationMore complex model"
   ]
  },
  {
   "cell_type": "code",
   "execution_count": null,
   "metadata": {},
   "outputs": [],
   "source": []
  }
 ],
 "metadata": {
  "kernelspec": {
   "display_name": "src-b_hBAezR-py3.10",
   "language": "python",
   "name": "python3"
  },
  "language_info": {
   "codemirror_mode": {
    "name": "ipython",
    "version": 3
   },
   "file_extension": ".py",
   "mimetype": "text/x-python",
   "name": "python",
   "nbconvert_exporter": "python",
   "pygments_lexer": "ipython3",
   "version": "3.10.12"
  }
 },
 "nbformat": 4,
 "nbformat_minor": 2
}
